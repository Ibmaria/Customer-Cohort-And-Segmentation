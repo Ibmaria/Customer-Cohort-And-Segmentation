{
 "cells": [
  {
   "cell_type": "code",
   "execution_count": 13,
   "id": "e28d1b94",
   "metadata": {},
   "outputs": [],
   "source": [
    "import pandas as pd\n",
    "from datetime import timedelta\n",
    "from types import new_class\n",
    "from dash import  dcc\n",
    "from dash import  html\n",
    "from dash.dependencies import Input, Output\n",
    "import plotly.graph_objs as go\n",
    "from django_plotly_dash import DjangoDash\n",
    "import pandas as pd\n",
    "from datetime import timedelta\n",
    "\n",
    "import plotly.express as px\n"
   ]
  },
  {
   "cell_type": "code",
   "execution_count": 3,
   "id": "7e682934",
   "metadata": {},
   "outputs": [],
   "source": [
    "df1 =pd.read_excel('Retail_kaggle.xlsx',parse_dates=['InvoiceDate'])\n",
    "df=df1.copy()"
   ]
  },
  {
   "cell_type": "code",
   "execution_count": 4,
   "id": "87e29783",
   "metadata": {},
   "outputs": [
    {
     "name": "stdout",
     "output_type": "stream",
     "text": [
      "<class 'pandas.core.frame.DataFrame'>\n",
      "RangeIndex: 541909 entries, 0 to 541908\n",
      "Data columns (total 9 columns):\n",
      " #   Column       Non-Null Count   Dtype         \n",
      "---  ------       --------------   -----         \n",
      " 0   InvoiceNo    541909 non-null  object        \n",
      " 1   StockCode    541909 non-null  object        \n",
      " 2   lower        1816 non-null    object        \n",
      " 3   Description  540455 non-null  object        \n",
      " 4   Quantity     541909 non-null  int64         \n",
      " 5   InvoiceDate  541909 non-null  datetime64[ns]\n",
      " 6   UnitPrice    541909 non-null  float64       \n",
      " 7   CustomerID   406829 non-null  float64       \n",
      " 8   Country      541909 non-null  object        \n",
      "dtypes: datetime64[ns](1), float64(2), int64(1), object(5)\n",
      "memory usage: 37.2+ MB\n"
     ]
    }
   ],
   "source": [
    "df.info()"
   ]
  },
  {
   "cell_type": "code",
   "execution_count": 5,
   "id": "f1a0f024",
   "metadata": {},
   "outputs": [],
   "source": [
    "df['InvoiceDate'] = pd.to_datetime(df['InvoiceDate'])"
   ]
  },
  {
   "cell_type": "code",
   "execution_count": 6,
   "id": "67428502",
   "metadata": {},
   "outputs": [
    {
     "name": "stdout",
     "output_type": "stream",
     "text": [
      "<class 'pandas.core.frame.DataFrame'>\n",
      "RangeIndex: 541909 entries, 0 to 541908\n",
      "Data columns (total 9 columns):\n",
      " #   Column       Non-Null Count   Dtype         \n",
      "---  ------       --------------   -----         \n",
      " 0   InvoiceNo    541909 non-null  object        \n",
      " 1   StockCode    541909 non-null  object        \n",
      " 2   lower        1816 non-null    object        \n",
      " 3   Description  540455 non-null  object        \n",
      " 4   Quantity     541909 non-null  int64         \n",
      " 5   InvoiceDate  541909 non-null  datetime64[ns]\n",
      " 6   UnitPrice    541909 non-null  float64       \n",
      " 7   CustomerID   406829 non-null  float64       \n",
      " 8   Country      541909 non-null  object        \n",
      "dtypes: datetime64[ns](1), float64(2), int64(1), object(5)\n",
      "memory usage: 37.2+ MB\n"
     ]
    }
   ],
   "source": [
    "df.info()"
   ]
  },
  {
   "cell_type": "code",
   "execution_count": 9,
   "id": "1fe89b68",
   "metadata": {},
   "outputs": [],
   "source": [
    "df['Total'] = df['Quantity'] * df['UnitPrice']\n",
    "day_date = df['InvoiceDate'].max() + timedelta(days=1)\n"
   ]
  },
  {
   "cell_type": "code",
   "execution_count": 10,
   "id": "074269c0",
   "metadata": {},
   "outputs": [
    {
     "data": {
      "text/plain": [
       "Timestamp('2011-12-10 12:50:00')"
      ]
     },
     "execution_count": 10,
     "metadata": {},
     "output_type": "execute_result"
    }
   ],
   "source": [
    "day_date"
   ]
  },
  {
   "cell_type": "code",
   "execution_count": 11,
   "id": "ece35fa3",
   "metadata": {},
   "outputs": [],
   "source": [
    "df_process = df.groupby(['CustomerID']).agg({\n",
    "                'InvoiceDate': lambda x: (day_date - x.max()).days,\n",
    "                'InvoiceNo': 'count',\n",
    "                'Total': 'sum'})\n",
    "df_process.rename(columns={'InvoiceDate': 'Recency',\n",
    "                                'InvoiceNo': 'Frequency',\n",
    "                                'Total': 'MonetaryValue'}, inplace=True)"
   ]
  },
  {
   "cell_type": "code",
   "execution_count": 12,
   "id": "da1127ec",
   "metadata": {},
   "outputs": [
    {
     "data": {
      "text/html": [
       "<div>\n",
       "<style scoped>\n",
       "    .dataframe tbody tr th:only-of-type {\n",
       "        vertical-align: middle;\n",
       "    }\n",
       "\n",
       "    .dataframe tbody tr th {\n",
       "        vertical-align: top;\n",
       "    }\n",
       "\n",
       "    .dataframe thead th {\n",
       "        text-align: right;\n",
       "    }\n",
       "</style>\n",
       "<table border=\"1\" class=\"dataframe\">\n",
       "  <thead>\n",
       "    <tr style=\"text-align: right;\">\n",
       "      <th></th>\n",
       "      <th>Recency</th>\n",
       "      <th>Frequency</th>\n",
       "      <th>MonetaryValue</th>\n",
       "    </tr>\n",
       "    <tr>\n",
       "      <th>CustomerID</th>\n",
       "      <th></th>\n",
       "      <th></th>\n",
       "      <th></th>\n",
       "    </tr>\n",
       "  </thead>\n",
       "  <tbody>\n",
       "    <tr>\n",
       "      <th>12346.0</th>\n",
       "      <td>326</td>\n",
       "      <td>2</td>\n",
       "      <td>0.00</td>\n",
       "    </tr>\n",
       "    <tr>\n",
       "      <th>12347.0</th>\n",
       "      <td>2</td>\n",
       "      <td>182</td>\n",
       "      <td>4310.00</td>\n",
       "    </tr>\n",
       "    <tr>\n",
       "      <th>12348.0</th>\n",
       "      <td>75</td>\n",
       "      <td>31</td>\n",
       "      <td>1797.24</td>\n",
       "    </tr>\n",
       "    <tr>\n",
       "      <th>12349.0</th>\n",
       "      <td>19</td>\n",
       "      <td>73</td>\n",
       "      <td>1757.55</td>\n",
       "    </tr>\n",
       "    <tr>\n",
       "      <th>12350.0</th>\n",
       "      <td>310</td>\n",
       "      <td>17</td>\n",
       "      <td>334.40</td>\n",
       "    </tr>\n",
       "    <tr>\n",
       "      <th>...</th>\n",
       "      <td>...</td>\n",
       "      <td>...</td>\n",
       "      <td>...</td>\n",
       "    </tr>\n",
       "    <tr>\n",
       "      <th>18280.0</th>\n",
       "      <td>278</td>\n",
       "      <td>10</td>\n",
       "      <td>180.60</td>\n",
       "    </tr>\n",
       "    <tr>\n",
       "      <th>18281.0</th>\n",
       "      <td>181</td>\n",
       "      <td>7</td>\n",
       "      <td>80.82</td>\n",
       "    </tr>\n",
       "    <tr>\n",
       "      <th>18282.0</th>\n",
       "      <td>8</td>\n",
       "      <td>13</td>\n",
       "      <td>176.60</td>\n",
       "    </tr>\n",
       "    <tr>\n",
       "      <th>18283.0</th>\n",
       "      <td>4</td>\n",
       "      <td>756</td>\n",
       "      <td>2094.88</td>\n",
       "    </tr>\n",
       "    <tr>\n",
       "      <th>18287.0</th>\n",
       "      <td>43</td>\n",
       "      <td>70</td>\n",
       "      <td>1837.28</td>\n",
       "    </tr>\n",
       "  </tbody>\n",
       "</table>\n",
       "<p>4372 rows × 3 columns</p>\n",
       "</div>"
      ],
      "text/plain": [
       "            Recency  Frequency  MonetaryValue\n",
       "CustomerID                                   \n",
       "12346.0         326          2           0.00\n",
       "12347.0           2        182        4310.00\n",
       "12348.0          75         31        1797.24\n",
       "12349.0          19         73        1757.55\n",
       "12350.0         310         17         334.40\n",
       "...             ...        ...            ...\n",
       "18280.0         278         10         180.60\n",
       "18281.0         181          7          80.82\n",
       "18282.0           8         13         176.60\n",
       "18283.0           4        756        2094.88\n",
       "18287.0          43         70        1837.28\n",
       "\n",
       "[4372 rows x 3 columns]"
      ]
     },
     "execution_count": 12,
     "metadata": {},
     "output_type": "execute_result"
    }
   ],
   "source": [
    "df_process"
   ]
  },
  {
   "cell_type": "code",
   "execution_count": 15,
   "id": "847b33b2",
   "metadata": {},
   "outputs": [],
   "source": [
    "def label_rfm_segments(df):\n",
    "    if df['score'] >= 9:\n",
    "        return 'Cant Loose Them'\n",
    "    elif ((df['score'] >= 8) and (df['score'] < 9)):\n",
    "        return 'Champions'\n",
    "    elif ((df['score'] >= 7) and (df['score'] < 8)):\n",
    "        return 'Loyal'\n",
    "    elif ((df['score'] >= 6) and (df['score'] < 7)):\n",
    "        return 'Potential'\n",
    "    elif ((df['score'] >= 5) and (df['score'] < 6)):\n",
    "        return 'Promising'\n",
    "    elif ((df['score'] >= 4) and (df['score'] < 5)):\n",
    "        return 'Needs Attention'\n",
    "    else:\n",
    "        return 'Others'\n",
    "def join_rfm(x): return str(x['R']) + str(x['F']) + str(x['M'])#, encoding = \"iso-8859-1\",engine=\"openpyxl\"\n"
   ]
  },
  {
   "cell_type": "code",
   "execution_count": 17,
   "id": "a59d920d",
   "metadata": {},
   "outputs": [],
   "source": [
    "r_labels = range(4, 0, -1); f_labels = range(1, 5);m_labels = range(1, 5)\n",
    "r_groups = pd.qcut(df_process['Recency'], q=4, labels=r_labels)# Assign these labels to 4 equal percentile groups \n",
    "f_groups = pd.qcut(df_process['Frequency'], q=4, labels=f_labels)# Create new columns R and F \n",
    "df_process = df_process.assign(R = r_groups.values, F = f_groups.values)\n",
    "m_groups = pd.qcut(df_process['MonetaryValue'], q=4, labels=m_labels)# Create new column M\n",
    "df_process = df_process.assign(M = m_groups.values)\n",
    "df_process['rfm_Concat'] = df_process.apply(join_rfm, axis=1)\n",
    "\n",
    "rfm_count_unique = df_process.groupby('rfm_Concat')['rfm_Concat'].nunique()\n",
    "df_process['score'] = df_process[['R','F','M']].sum(axis=1)"
   ]
  },
  {
   "cell_type": "code",
   "execution_count": 18,
   "id": "f56fb37f",
   "metadata": {},
   "outputs": [],
   "source": [
    "df_process['RFM_Level'] = df_process.apply(label_rfm_segments, axis=1)\n",
    "df_process.reset_index(inplace=True)\n",
    "rfm_level_agg = df_process.groupby('RFM_Level').agg({'Recency': 'mean','Frequency': 'mean','MonetaryValue': 'mean'}).round(1)\n",
    "\n",
    "rfm_level_agg.reset_index(inplace = True)\n"
   ]
  },
  {
   "cell_type": "code",
   "execution_count": 19,
   "id": "dffb91ae",
   "metadata": {},
   "outputs": [
    {
     "data": {
      "text/plain": [
       "rfm_Concat\n",
       "111    1\n",
       "112    1\n",
       "113    1\n",
       "114    1\n",
       "121    1\n",
       "      ..\n",
       "434    1\n",
       "441    1\n",
       "442    1\n",
       "443    1\n",
       "444    1\n",
       "Name: rfm_Concat, Length: 62, dtype: int64"
      ]
     },
     "execution_count": 19,
     "metadata": {},
     "output_type": "execute_result"
    }
   ],
   "source": [
    "rfm_count_unique"
   ]
  },
  {
   "cell_type": "code",
   "execution_count": 20,
   "id": "ccfadabd",
   "metadata": {},
   "outputs": [
    {
     "data": {
      "text/html": [
       "<div>\n",
       "<style scoped>\n",
       "    .dataframe tbody tr th:only-of-type {\n",
       "        vertical-align: middle;\n",
       "    }\n",
       "\n",
       "    .dataframe tbody tr th {\n",
       "        vertical-align: top;\n",
       "    }\n",
       "\n",
       "    .dataframe thead th {\n",
       "        text-align: right;\n",
       "    }\n",
       "</style>\n",
       "<table border=\"1\" class=\"dataframe\">\n",
       "  <thead>\n",
       "    <tr style=\"text-align: right;\">\n",
       "      <th></th>\n",
       "      <th>RFM_Level</th>\n",
       "      <th>Recency</th>\n",
       "      <th>Frequency</th>\n",
       "      <th>MonetaryValue</th>\n",
       "    </tr>\n",
       "  </thead>\n",
       "  <tbody>\n",
       "    <tr>\n",
       "      <th>0</th>\n",
       "      <td>Cant Loose Them</td>\n",
       "      <td>25.2</td>\n",
       "      <td>195.1</td>\n",
       "      <td>4130.3</td>\n",
       "    </tr>\n",
       "    <tr>\n",
       "      <th>1</th>\n",
       "      <td>Champions</td>\n",
       "      <td>62.7</td>\n",
       "      <td>57.0</td>\n",
       "      <td>974.7</td>\n",
       "    </tr>\n",
       "    <tr>\n",
       "      <th>2</th>\n",
       "      <td>Loyal</td>\n",
       "      <td>78.8</td>\n",
       "      <td>39.7</td>\n",
       "      <td>724.2</td>\n",
       "    </tr>\n",
       "    <tr>\n",
       "      <th>3</th>\n",
       "      <td>Needs Attention</td>\n",
       "      <td>174.5</td>\n",
       "      <td>13.9</td>\n",
       "      <td>227.1</td>\n",
       "    </tr>\n",
       "    <tr>\n",
       "      <th>4</th>\n",
       "      <td>Others</td>\n",
       "      <td>264.8</td>\n",
       "      <td>7.8</td>\n",
       "      <td>109.1</td>\n",
       "    </tr>\n",
       "    <tr>\n",
       "      <th>5</th>\n",
       "      <td>Potential</td>\n",
       "      <td>94.3</td>\n",
       "      <td>28.5</td>\n",
       "      <td>491.8</td>\n",
       "    </tr>\n",
       "    <tr>\n",
       "      <th>6</th>\n",
       "      <td>Promising</td>\n",
       "      <td>153.0</td>\n",
       "      <td>21.2</td>\n",
       "      <td>346.8</td>\n",
       "    </tr>\n",
       "  </tbody>\n",
       "</table>\n",
       "</div>"
      ],
      "text/plain": [
       "         RFM_Level  Recency  Frequency  MonetaryValue\n",
       "0  Cant Loose Them     25.2      195.1         4130.3\n",
       "1        Champions     62.7       57.0          974.7\n",
       "2            Loyal     78.8       39.7          724.2\n",
       "3  Needs Attention    174.5       13.9          227.1\n",
       "4           Others    264.8        7.8          109.1\n",
       "5        Potential     94.3       28.5          491.8\n",
       "6        Promising    153.0       21.2          346.8"
      ]
     },
     "execution_count": 20,
     "metadata": {},
     "output_type": "execute_result"
    }
   ],
   "source": [
    "rfm_level_agg"
   ]
  },
  {
   "cell_type": "code",
   "execution_count": 21,
   "id": "f7234dc6",
   "metadata": {},
   "outputs": [
    {
     "name": "stderr",
     "output_type": "stream",
     "text": [
      "<ipython-input-21-0273bba52f0c>:3: SettingWithCopyWarning: \n",
      "A value is trying to be set on a copy of a slice from a DataFrame\n",
      "\n",
      "See the caveats in the documentation: https://pandas.pydata.org/pandas-docs/stable/user_guide/indexing.html#returning-a-view-versus-a-copy\n",
      "  df_norm.drop_duplicates(subset = ['CustomerID'], inplace=True)\n"
     ]
    },
    {
     "data": {
      "text/html": [
       "<div>\n",
       "<style scoped>\n",
       "    .dataframe tbody tr th:only-of-type {\n",
       "        vertical-align: middle;\n",
       "    }\n",
       "\n",
       "    .dataframe tbody tr th {\n",
       "        vertical-align: top;\n",
       "    }\n",
       "\n",
       "    .dataframe thead th {\n",
       "        text-align: right;\n",
       "    }\n",
       "</style>\n",
       "<table border=\"1\" class=\"dataframe\">\n",
       "  <thead>\n",
       "    <tr style=\"text-align: right;\">\n",
       "      <th></th>\n",
       "      <th>index</th>\n",
       "      <th>Country</th>\n",
       "      <th>RFM_Level</th>\n",
       "      <th>RFM_Level_cnt</th>\n",
       "    </tr>\n",
       "  </thead>\n",
       "  <tbody>\n",
       "    <tr>\n",
       "      <th>0</th>\n",
       "      <td>34</td>\n",
       "      <td>Australia</td>\n",
       "      <td>Cant Loose Them</td>\n",
       "      <td>3</td>\n",
       "    </tr>\n",
       "    <tr>\n",
       "      <th>1</th>\n",
       "      <td>60</td>\n",
       "      <td>Australia</td>\n",
       "      <td>Loyal</td>\n",
       "      <td>2</td>\n",
       "    </tr>\n",
       "    <tr>\n",
       "      <th>2</th>\n",
       "      <td>37</td>\n",
       "      <td>Australia</td>\n",
       "      <td>Champions</td>\n",
       "      <td>2</td>\n",
       "    </tr>\n",
       "    <tr>\n",
       "      <th>3</th>\n",
       "      <td>33</td>\n",
       "      <td>Australia</td>\n",
       "      <td>Needs Attention</td>\n",
       "      <td>2</td>\n",
       "    </tr>\n",
       "    <tr>\n",
       "      <th>4</th>\n",
       "      <td>11</td>\n",
       "      <td>Austria</td>\n",
       "      <td>Cant Loose Them</td>\n",
       "      <td>3</td>\n",
       "    </tr>\n",
       "    <tr>\n",
       "      <th>...</th>\n",
       "      <td>...</td>\n",
       "      <td>...</td>\n",
       "      <td>...</td>\n",
       "      <td>...</td>\n",
       "    </tr>\n",
       "    <tr>\n",
       "      <th>125</th>\n",
       "      <td>410</td>\n",
       "      <td>United Kingdom</td>\n",
       "      <td>Needs Attention</td>\n",
       "      <td>369</td>\n",
       "    </tr>\n",
       "    <tr>\n",
       "      <th>126</th>\n",
       "      <td>0</td>\n",
       "      <td>United Kingdom</td>\n",
       "      <td>Others</td>\n",
       "      <td>361</td>\n",
       "    </tr>\n",
       "    <tr>\n",
       "      <th>127</th>\n",
       "      <td>2935</td>\n",
       "      <td>Unspecified</td>\n",
       "      <td>Loyal</td>\n",
       "      <td>1</td>\n",
       "    </tr>\n",
       "    <tr>\n",
       "      <th>128</th>\n",
       "      <td>327</td>\n",
       "      <td>Unspecified</td>\n",
       "      <td>Champions</td>\n",
       "      <td>1</td>\n",
       "    </tr>\n",
       "    <tr>\n",
       "      <th>129</th>\n",
       "      <td>16</td>\n",
       "      <td>Unspecified</td>\n",
       "      <td>Potential</td>\n",
       "      <td>2</td>\n",
       "    </tr>\n",
       "  </tbody>\n",
       "</table>\n",
       "<p>130 rows × 4 columns</p>\n",
       "</div>"
      ],
      "text/plain": [
       "     index         Country        RFM_Level  RFM_Level_cnt\n",
       "0       34       Australia  Cant Loose Them              3\n",
       "1       60       Australia            Loyal              2\n",
       "2       37       Australia        Champions              2\n",
       "3       33       Australia  Needs Attention              2\n",
       "4       11         Austria  Cant Loose Them              3\n",
       "..     ...             ...              ...            ...\n",
       "125    410  United Kingdom  Needs Attention            369\n",
       "126      0  United Kingdom           Others            361\n",
       "127   2935     Unspecified            Loyal              1\n",
       "128    327     Unspecified        Champions              1\n",
       "129     16     Unspecified        Potential              2\n",
       "\n",
       "[130 rows x 4 columns]"
      ]
     },
     "execution_count": 21,
     "metadata": {},
     "output_type": "execute_result"
    }
   ],
   "source": [
    "df_mod = df_process[['CustomerID', 'score', 'RFM_Level','Recency','Frequency','MonetaryValue']]\n",
    "df_norm = df[['CustomerID', 'Country']]\n",
    "df_norm.drop_duplicates(subset = ['CustomerID'], inplace=True)\n",
    "df_final = pd.merge(df_mod, df_norm, on='CustomerID', how='left')\n",
    "df_graph = df_final[['Country','RFM_Level']].copy()\n",
    "df_graph['RFM_Level_cnt'] = df_graph.groupby(['Country','RFM_Level'])['Country'].transform('count')\n",
    "df_graph.drop_duplicates(['Country', 'RFM_Level','RFM_Level_cnt'], inplace=True)\n",
    "df_graph.sort_values(by = ['Country'], inplace=True)\n",
    "df_graph.reset_index()"
   ]
  },
  {
   "cell_type": "code",
   "execution_count": null,
   "id": "9d2a7a8e",
   "metadata": {},
   "outputs": [],
   "source": []
  }
 ],
 "metadata": {
  "kernelspec": {
   "display_name": "Python 3",
   "language": "python",
   "name": "python3"
  },
  "language_info": {
   "codemirror_mode": {
    "name": "ipython",
    "version": 3
   },
   "file_extension": ".py",
   "mimetype": "text/x-python",
   "name": "python",
   "nbconvert_exporter": "python",
   "pygments_lexer": "ipython3",
   "version": "3.8.8"
  }
 },
 "nbformat": 4,
 "nbformat_minor": 5
}
